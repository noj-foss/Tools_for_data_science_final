{
  "nbformat": 4,
  "nbformat_minor": 0,
  "metadata": {
    "colab": {
      "provenance": []
    },
    "kernelspec": {
      "name": "python3",
      "display_name": "Python 3"
    },
    "language_info": {
      "name": "python"
    }
  },
  "cells": [
    {
      "cell_type": "markdown",
      "source": [
        "# Data Science Tools and Ecosystem\n",
        "In this notebook, Data Science Tools and Ecosystem are summarized.\n",
        "## Author\n",
        "Do Quang Thuy\n",
        "\n",
        "**Objectives:**\n",
        "- List popular languages for Data Science\n",
        "- List popular libraries for Data Science\n",
        "- List popular tools for Data Science\n",
        "Some of the popular languages that Data Scientists use are:\n",
        "1. Python\n",
        "2. R\n",
        "3. SQL\n",
        "Some of the commonly used libraries used by Data Scientists include:\n",
        "1. Pandas\n",
        "2. Matplotlib\n",
        "3. Numpy\n",
        "| Data Science Tools |\n",
        "| -----------------|\n",
        "| VisualStudioCode |\n",
        "| Spyder |\n",
        "| RStudio |\n",
        "### Below are a few examples of evaluating arithmetic expressions in Python\n",
        "(3*4)+5\n",
        "# This a simple arithmetic expression to mutiply then add integers\n",
        "def min2hours(minutes:int)->float:\n",
        "    return minutes/60\n",
        "\n",
        "min2hours(200)\n",
        "# This will convert 200 minutes to hours by diving by 60\n",
        "\n",
        "## Author\n",
        "Regulavalasa Manoj"
      ],
      "metadata": {
        "id": "o4dQfm0BxRDJ"
      }
    }
  ]
}